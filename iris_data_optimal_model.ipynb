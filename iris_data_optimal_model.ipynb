{
 "cells": [
  {
   "cell_type": "markdown",
   "id": "f3a38910",
   "metadata": {},
   "source": [
    "[Link to GitHub Repo](http://localhost:8888/notebooks/Desktop/iris_for_hyperparameter_tuning-master/iris_data_optimal_model.ipynb)\n",
    "### Hyperparameter Tuning\n",
    "**Introduction to the project**<br>\n",
    "The process of choosing optimal parameter is called *Hyperparameter Tuning*. Here in this project, I have tried to show the following for a simple and popular iris flower data directly imported from `sklearn` library.\n",
    "\n",
    "I have divided the project mainly into following four areas. \n",
    "- Explanatory Data Analysis\n",
    "- Preprocessing of the data\n",
    "- Hyperparameter Tuning\n",
    "- Selection of the best model\n",
    "\n",
    "I have tried to find out a model from different models that would get the optimal prediction.\n",
    "Following are the models that are being used here for fine-tuning.\n",
    "- Random Forest\n",
    "- Decision Tree\n",
    "- Logistic Regression\n",
    "- SVM"
   ]
  },
  {
   "cell_type": "markdown",
   "id": "2e194b84",
   "metadata": {},
   "source": [
    "#### Explanatory Data Analysis"
   ]
  },
  {
   "cell_type": "code",
   "execution_count": 1,
   "id": "f51ddb86",
   "metadata": {},
   "outputs": [
    {
     "name": "stdout",
     "output_type": "stream",
     "text": [
      "['DESCR', 'data', 'data_module', 'feature_names', 'filename', 'frame', 'target', 'target_names']\n"
     ]
    }
   ],
   "source": [
    "# Load data from the source library\n",
    "from sklearn.datasets import load_iris\n",
    "iris = load_iris()\n",
    "print(dir(iris))"
   ]
  },
  {
   "cell_type": "code",
   "execution_count": 2,
   "id": "502089da",
   "metadata": {},
   "outputs": [
    {
     "name": "stdout",
     "output_type": "stream",
     "text": [
      ".. _iris_dataset:\n",
      "\n",
      "Iris plants dataset\n",
      "--------------------\n",
      "\n",
      "**Data Set Characteristics:**\n",
      "\n",
      "    :Number of Instances: 150 (50 in each of three classes)\n",
      "    :Number of Attributes: 4 numeric, predictive attributes and the class\n",
      "    :Attribute Information:\n",
      "        - sepal length in cm\n",
      "        - sepal width in cm\n",
      "        - petal length in cm\n",
      "        - petal width in cm\n",
      "        - class:\n",
      "                - Iris-Setosa\n",
      "                - Iris-Versicolour\n",
      "                - Iris-Virginica\n",
      "                \n",
      "    :Summary Statistics:\n",
      "\n",
      "    ============== ==== ==== ======= ===== ====================\n",
      "                    Min  Max   Mean    SD   Class Correlation\n",
      "    ============== ==== ==== ======= ===== ====================\n",
      "    sepal length:   4.3  7.9   5.84   0.83    0.7826\n",
      "    sepal width:    2.0  4.4   3.05   0.43   -0.4194\n",
      "    petal length:   1.0  6.9   3.76   1.76    0.9490  (high!)\n",
      "    petal width:    0.1  2.5   1.20   0.76    0.9565  (high!)\n",
      "    ============== ==== ==== ======= ===== ====================\n",
      "\n",
      "    :Missing Attribute Values: None\n",
      "    :Class Distribution: 33.3% for each of 3 classes.\n",
      "    :Creator: R.A. Fisher\n",
      "    :Donor: Michael Marshall (MARSHALL%PLU@io.arc.nasa.gov)\n",
      "    :Date: July, 1988\n",
      "\n",
      "The famous Iris database, first used by Sir R.A. Fisher. The dataset is taken\n",
      "from Fisher's paper. Note that it's the same as in R, but not as in the UCI\n",
      "Machine Learning Repository, which has two wrong data points.\n",
      "\n",
      "This is perhaps the best known database to be found in the\n",
      "pattern recognition literature.  Fisher's paper is a classic in the field and\n",
      "is referenced frequently to this day.  (See Duda & Hart, for example.)  The\n",
      "data set contains 3 classes of 50 instances each, where each class refers to a\n",
      "type of iris plant.  One class is linearly separable from the other 2; the\n",
      "latter are NOT linearly separable from each other.\n",
      "\n",
      ".. topic:: References\n",
      "\n",
      "   - Fisher, R.A. \"The use of multiple measurements in taxonomic problems\"\n",
      "     Annual Eugenics, 7, Part II, 179-188 (1936); also in \"Contributions to\n",
      "     Mathematical Statistics\" (John Wiley, NY, 1950).\n",
      "   - Duda, R.O., & Hart, P.E. (1973) Pattern Classification and Scene Analysis.\n",
      "     (Q327.D83) John Wiley & Sons.  ISBN 0-471-22361-1.  See page 218.\n",
      "   - Dasarathy, B.V. (1980) \"Nosing Around the Neighborhood: A New System\n",
      "     Structure and Classification Rule for Recognition in Partially Exposed\n",
      "     Environments\".  IEEE Transactions on Pattern Analysis and Machine\n",
      "     Intelligence, Vol. PAMI-2, No. 1, 67-71.\n",
      "   - Gates, G.W. (1972) \"The Reduced Nearest Neighbor Rule\".  IEEE Transactions\n",
      "     on Information Theory, May 1972, 431-433.\n",
      "   - See also: 1988 MLC Proceedings, 54-64.  Cheeseman et al\"s AUTOCLASS II\n",
      "     conceptual clustering system finds 3 classes in the data.\n",
      "   - Many, many more ...\n"
     ]
    }
   ],
   "source": [
    "# You can uncomment the following code to read about the dataset.\n",
    "print(iris.DESCR)"
   ]
  },
  {
   "cell_type": "code",
   "execution_count": 3,
   "id": "1d2ce36a",
   "metadata": {},
   "outputs": [
    {
     "data": {
      "text/plain": [
       "\"target_names: ['setosa' 'versicolor' 'virginica']\""
      ]
     },
     "execution_count": 3,
     "metadata": {},
     "output_type": "execute_result"
    }
   ],
   "source": [
    "# know the classes of iris in the data, (or target)\n",
    "f'target_names: {iris.target_names}'"
   ]
  },
  {
   "cell_type": "code",
   "execution_count": 4,
   "id": "74ec0ebd",
   "metadata": {},
   "outputs": [
    {
     "data": {
      "text/plain": [
       "\"feature_names: ['sepal length (cm)', 'sepal width (cm)', 'petal length (cm)', 'petal width (cm)']\""
      ]
     },
     "execution_count": 4,
     "metadata": {},
     "output_type": "execute_result"
    }
   ],
   "source": [
    "f'feature_names: {iris.feature_names}'"
   ]
  },
  {
   "cell_type": "code",
   "execution_count": 5,
   "id": "4703b5e9",
   "metadata": {},
   "outputs": [
    {
     "data": {
      "text/plain": [
       "'filename: iris.csv'"
      ]
     },
     "execution_count": 5,
     "metadata": {},
     "output_type": "execute_result"
    }
   ],
   "source": [
    "f'filename: {iris.filename}'"
   ]
  },
  {
   "cell_type": "code",
   "execution_count": 6,
   "id": "a1dec87d",
   "metadata": {},
   "outputs": [
    {
     "data": {
      "text/plain": [
       "'data: [[5.1 3.5 1.4 0.2]\\n [4.9 3.  1.4 0.2]\\n [4.7 3.2 1.3 0.2]\\n [4.6 3.1 1.5 0.2]\\n [5.  3.6 1.4 0.2]]'"
      ]
     },
     "execution_count": 6,
     "metadata": {},
     "output_type": "execute_result"
    }
   ],
   "source": [
    "f'data: {iris.data[:5]}'"
   ]
  },
  {
   "cell_type": "code",
   "execution_count": 7,
   "id": "e391bfd7",
   "metadata": {},
   "outputs": [
    {
     "data": {
      "text/html": [
       "<div>\n",
       "<style scoped>\n",
       "    .dataframe tbody tr th:only-of-type {\n",
       "        vertical-align: middle;\n",
       "    }\n",
       "\n",
       "    .dataframe tbody tr th {\n",
       "        vertical-align: top;\n",
       "    }\n",
       "\n",
       "    .dataframe thead th {\n",
       "        text-align: right;\n",
       "    }\n",
       "</style>\n",
       "<table border=\"1\" class=\"dataframe\">\n",
       "  <thead>\n",
       "    <tr style=\"text-align: right;\">\n",
       "      <th></th>\n",
       "      <th>sepal length (cm)</th>\n",
       "      <th>sepal width (cm)</th>\n",
       "      <th>petal length (cm)</th>\n",
       "      <th>petal width (cm)</th>\n",
       "    </tr>\n",
       "  </thead>\n",
       "  <tbody>\n",
       "    <tr>\n",
       "      <th>0</th>\n",
       "      <td>5.1</td>\n",
       "      <td>3.5</td>\n",
       "      <td>1.4</td>\n",
       "      <td>0.2</td>\n",
       "    </tr>\n",
       "    <tr>\n",
       "      <th>1</th>\n",
       "      <td>4.9</td>\n",
       "      <td>3.0</td>\n",
       "      <td>1.4</td>\n",
       "      <td>0.2</td>\n",
       "    </tr>\n",
       "    <tr>\n",
       "      <th>2</th>\n",
       "      <td>4.7</td>\n",
       "      <td>3.2</td>\n",
       "      <td>1.3</td>\n",
       "      <td>0.2</td>\n",
       "    </tr>\n",
       "    <tr>\n",
       "      <th>3</th>\n",
       "      <td>4.6</td>\n",
       "      <td>3.1</td>\n",
       "      <td>1.5</td>\n",
       "      <td>0.2</td>\n",
       "    </tr>\n",
       "    <tr>\n",
       "      <th>4</th>\n",
       "      <td>5.0</td>\n",
       "      <td>3.6</td>\n",
       "      <td>1.4</td>\n",
       "      <td>0.2</td>\n",
       "    </tr>\n",
       "  </tbody>\n",
       "</table>\n",
       "</div>"
      ],
      "text/plain": [
       "   sepal length (cm)  sepal width (cm)  petal length (cm)  petal width (cm)\n",
       "0                5.1               3.5                1.4               0.2\n",
       "1                4.9               3.0                1.4               0.2\n",
       "2                4.7               3.2                1.3               0.2\n",
       "3                4.6               3.1                1.5               0.2\n",
       "4                5.0               3.6                1.4               0.2"
      ]
     },
     "execution_count": 7,
     "metadata": {},
     "output_type": "execute_result"
    }
   ],
   "source": [
    "# form dataframe by using pandas library\n",
    "import pandas as pd\n",
    "import numpy as np\n",
    "\n",
    "df = pd.DataFrame(iris.data, columns=iris.feature_names)\n",
    "df.head()"
   ]
  },
  {
   "cell_type": "code",
   "execution_count": 8,
   "id": "46765bf6",
   "metadata": {},
   "outputs": [
    {
     "data": {
      "text/html": [
       "<div>\n",
       "<style scoped>\n",
       "    .dataframe tbody tr th:only-of-type {\n",
       "        vertical-align: middle;\n",
       "    }\n",
       "\n",
       "    .dataframe tbody tr th {\n",
       "        vertical-align: top;\n",
       "    }\n",
       "\n",
       "    .dataframe thead th {\n",
       "        text-align: right;\n",
       "    }\n",
       "</style>\n",
       "<table border=\"1\" class=\"dataframe\">\n",
       "  <thead>\n",
       "    <tr style=\"text-align: right;\">\n",
       "      <th></th>\n",
       "      <th>sepal length (cm)</th>\n",
       "      <th>sepal width (cm)</th>\n",
       "      <th>petal length (cm)</th>\n",
       "      <th>petal width (cm)</th>\n",
       "      <th>target</th>\n",
       "    </tr>\n",
       "  </thead>\n",
       "  <tbody>\n",
       "    <tr>\n",
       "      <th>107</th>\n",
       "      <td>7.3</td>\n",
       "      <td>2.9</td>\n",
       "      <td>6.3</td>\n",
       "      <td>1.8</td>\n",
       "      <td>2</td>\n",
       "    </tr>\n",
       "    <tr>\n",
       "      <th>128</th>\n",
       "      <td>6.4</td>\n",
       "      <td>2.8</td>\n",
       "      <td>5.6</td>\n",
       "      <td>2.1</td>\n",
       "      <td>2</td>\n",
       "    </tr>\n",
       "    <tr>\n",
       "      <th>102</th>\n",
       "      <td>7.1</td>\n",
       "      <td>3.0</td>\n",
       "      <td>5.9</td>\n",
       "      <td>2.1</td>\n",
       "      <td>2</td>\n",
       "    </tr>\n",
       "    <tr>\n",
       "      <th>10</th>\n",
       "      <td>5.4</td>\n",
       "      <td>3.7</td>\n",
       "      <td>1.5</td>\n",
       "      <td>0.2</td>\n",
       "      <td>0</td>\n",
       "    </tr>\n",
       "    <tr>\n",
       "      <th>69</th>\n",
       "      <td>5.6</td>\n",
       "      <td>2.5</td>\n",
       "      <td>3.9</td>\n",
       "      <td>1.1</td>\n",
       "      <td>1</td>\n",
       "    </tr>\n",
       "  </tbody>\n",
       "</table>\n",
       "</div>"
      ],
      "text/plain": [
       "     sepal length (cm)  sepal width (cm)  petal length (cm)  petal width (cm)  \\\n",
       "107                7.3               2.9                6.3               1.8   \n",
       "128                6.4               2.8                5.6               2.1   \n",
       "102                7.1               3.0                5.9               2.1   \n",
       "10                 5.4               3.7                1.5               0.2   \n",
       "69                 5.6               2.5                3.9               1.1   \n",
       "\n",
       "     target  \n",
       "107       2  \n",
       "128       2  \n",
       "102       2  \n",
       "10        0  \n",
       "69        1  "
      ]
     },
     "execution_count": 8,
     "metadata": {},
     "output_type": "execute_result"
    }
   ],
   "source": [
    "# append a column 'target'\n",
    "df['target'] = iris.target\n",
    "df.sample(5)"
   ]
  },
  {
   "cell_type": "markdown",
   "id": "43725c8f",
   "metadata": {},
   "source": [
    "Below listed are the attribute information for the dataset.\n",
    "- `sepal length (cm)`\n",
    "- `sepal width (cm)`\n",
    "- `petal length (cm)`\n",
    "- `petal width (cm)`"
   ]
  },
  {
   "cell_type": "markdown",
   "id": "5c2f1486",
   "metadata": {},
   "source": [
    "Let's now convert the `target` column into iris_class by their respective classified names. Python lambda function has been used for the purpose."
   ]
  },
  {
   "cell_type": "code",
   "execution_count": 9,
   "id": "cd7701af",
   "metadata": {},
   "outputs": [
    {
     "data": {
      "text/html": [
       "<div>\n",
       "<style scoped>\n",
       "    .dataframe tbody tr th:only-of-type {\n",
       "        vertical-align: middle;\n",
       "    }\n",
       "\n",
       "    .dataframe tbody tr th {\n",
       "        vertical-align: top;\n",
       "    }\n",
       "\n",
       "    .dataframe thead th {\n",
       "        text-align: right;\n",
       "    }\n",
       "</style>\n",
       "<table border=\"1\" class=\"dataframe\">\n",
       "  <thead>\n",
       "    <tr style=\"text-align: right;\">\n",
       "      <th></th>\n",
       "      <th>sepal length (cm)</th>\n",
       "      <th>sepal width (cm)</th>\n",
       "      <th>petal length (cm)</th>\n",
       "      <th>petal width (cm)</th>\n",
       "      <th>target</th>\n",
       "      <th>iris class</th>\n",
       "    </tr>\n",
       "  </thead>\n",
       "  <tbody>\n",
       "    <tr>\n",
       "      <th>1</th>\n",
       "      <td>4.9</td>\n",
       "      <td>3.0</td>\n",
       "      <td>1.4</td>\n",
       "      <td>0.2</td>\n",
       "      <td>0</td>\n",
       "      <td>setosa</td>\n",
       "    </tr>\n",
       "    <tr>\n",
       "      <th>34</th>\n",
       "      <td>4.9</td>\n",
       "      <td>3.1</td>\n",
       "      <td>1.5</td>\n",
       "      <td>0.2</td>\n",
       "      <td>0</td>\n",
       "      <td>setosa</td>\n",
       "    </tr>\n",
       "    <tr>\n",
       "      <th>142</th>\n",
       "      <td>5.8</td>\n",
       "      <td>2.7</td>\n",
       "      <td>5.1</td>\n",
       "      <td>1.9</td>\n",
       "      <td>2</td>\n",
       "      <td>virginica</td>\n",
       "    </tr>\n",
       "    <tr>\n",
       "      <th>45</th>\n",
       "      <td>4.8</td>\n",
       "      <td>3.0</td>\n",
       "      <td>1.4</td>\n",
       "      <td>0.3</td>\n",
       "      <td>0</td>\n",
       "      <td>setosa</td>\n",
       "    </tr>\n",
       "    <tr>\n",
       "      <th>13</th>\n",
       "      <td>4.3</td>\n",
       "      <td>3.0</td>\n",
       "      <td>1.1</td>\n",
       "      <td>0.1</td>\n",
       "      <td>0</td>\n",
       "      <td>setosa</td>\n",
       "    </tr>\n",
       "  </tbody>\n",
       "</table>\n",
       "</div>"
      ],
      "text/plain": [
       "     sepal length (cm)  sepal width (cm)  petal length (cm)  petal width (cm)  \\\n",
       "1                  4.9               3.0                1.4               0.2   \n",
       "34                 4.9               3.1                1.5               0.2   \n",
       "142                5.8               2.7                5.1               1.9   \n",
       "45                 4.8               3.0                1.4               0.3   \n",
       "13                 4.3               3.0                1.1               0.1   \n",
       "\n",
       "     target iris class  \n",
       "1         0     setosa  \n",
       "34        0     setosa  \n",
       "142       2  virginica  \n",
       "45        0     setosa  \n",
       "13        0     setosa  "
      ]
     },
     "execution_count": 9,
     "metadata": {},
     "output_type": "execute_result"
    }
   ],
   "source": [
    "# append one more column 'iris class'\n",
    "df['iris class'] = df['target'].apply(lambda x: iris['target_names'][x])\n",
    "df.sample(5)"
   ]
  },
  {
   "cell_type": "code",
   "execution_count": 10,
   "id": "37ba6b40",
   "metadata": {},
   "outputs": [
    {
     "data": {
      "text/html": [
       "<div>\n",
       "<style scoped>\n",
       "    .dataframe tbody tr th:only-of-type {\n",
       "        vertical-align: middle;\n",
       "    }\n",
       "\n",
       "    .dataframe tbody tr th {\n",
       "        vertical-align: top;\n",
       "    }\n",
       "\n",
       "    .dataframe thead th {\n",
       "        text-align: right;\n",
       "    }\n",
       "</style>\n",
       "<table border=\"1\" class=\"dataframe\">\n",
       "  <thead>\n",
       "    <tr style=\"text-align: right;\">\n",
       "      <th></th>\n",
       "      <th>sepal length (cm)</th>\n",
       "      <th>sepal width (cm)</th>\n",
       "      <th>petal length (cm)</th>\n",
       "      <th>petal width (cm)</th>\n",
       "      <th>target</th>\n",
       "    </tr>\n",
       "  </thead>\n",
       "  <tbody>\n",
       "    <tr>\n",
       "      <th>count</th>\n",
       "      <td>150.000000</td>\n",
       "      <td>150.000000</td>\n",
       "      <td>150.000000</td>\n",
       "      <td>150.000000</td>\n",
       "      <td>150.000000</td>\n",
       "    </tr>\n",
       "    <tr>\n",
       "      <th>mean</th>\n",
       "      <td>5.843333</td>\n",
       "      <td>3.057333</td>\n",
       "      <td>3.758000</td>\n",
       "      <td>1.199333</td>\n",
       "      <td>1.000000</td>\n",
       "    </tr>\n",
       "    <tr>\n",
       "      <th>std</th>\n",
       "      <td>0.828066</td>\n",
       "      <td>0.435866</td>\n",
       "      <td>1.765298</td>\n",
       "      <td>0.762238</td>\n",
       "      <td>0.819232</td>\n",
       "    </tr>\n",
       "    <tr>\n",
       "      <th>min</th>\n",
       "      <td>4.300000</td>\n",
       "      <td>2.000000</td>\n",
       "      <td>1.000000</td>\n",
       "      <td>0.100000</td>\n",
       "      <td>0.000000</td>\n",
       "    </tr>\n",
       "    <tr>\n",
       "      <th>25%</th>\n",
       "      <td>5.100000</td>\n",
       "      <td>2.800000</td>\n",
       "      <td>1.600000</td>\n",
       "      <td>0.300000</td>\n",
       "      <td>0.000000</td>\n",
       "    </tr>\n",
       "    <tr>\n",
       "      <th>50%</th>\n",
       "      <td>5.800000</td>\n",
       "      <td>3.000000</td>\n",
       "      <td>4.350000</td>\n",
       "      <td>1.300000</td>\n",
       "      <td>1.000000</td>\n",
       "    </tr>\n",
       "    <tr>\n",
       "      <th>75%</th>\n",
       "      <td>6.400000</td>\n",
       "      <td>3.300000</td>\n",
       "      <td>5.100000</td>\n",
       "      <td>1.800000</td>\n",
       "      <td>2.000000</td>\n",
       "    </tr>\n",
       "    <tr>\n",
       "      <th>max</th>\n",
       "      <td>7.900000</td>\n",
       "      <td>4.400000</td>\n",
       "      <td>6.900000</td>\n",
       "      <td>2.500000</td>\n",
       "      <td>2.000000</td>\n",
       "    </tr>\n",
       "  </tbody>\n",
       "</table>\n",
       "</div>"
      ],
      "text/plain": [
       "       sepal length (cm)  sepal width (cm)  petal length (cm)  \\\n",
       "count         150.000000        150.000000         150.000000   \n",
       "mean            5.843333          3.057333           3.758000   \n",
       "std             0.828066          0.435866           1.765298   \n",
       "min             4.300000          2.000000           1.000000   \n",
       "25%             5.100000          2.800000           1.600000   \n",
       "50%             5.800000          3.000000           4.350000   \n",
       "75%             6.400000          3.300000           5.100000   \n",
       "max             7.900000          4.400000           6.900000   \n",
       "\n",
       "       petal width (cm)      target  \n",
       "count        150.000000  150.000000  \n",
       "mean           1.199333    1.000000  \n",
       "std            0.762238    0.819232  \n",
       "min            0.100000    0.000000  \n",
       "25%            0.300000    0.000000  \n",
       "50%            1.300000    1.000000  \n",
       "75%            1.800000    2.000000  \n",
       "max            2.500000    2.000000  "
      ]
     },
     "execution_count": 10,
     "metadata": {},
     "output_type": "execute_result"
    }
   ],
   "source": [
    "# Basic statistics\n",
    "df.describe()"
   ]
  },
  {
   "cell_type": "code",
   "execution_count": 11,
   "id": "6b5724cb",
   "metadata": {},
   "outputs": [
    {
     "name": "stdout",
     "output_type": "stream",
     "text": [
      "<class 'pandas.core.frame.DataFrame'>\n",
      "RangeIndex: 150 entries, 0 to 149\n",
      "Data columns (total 6 columns):\n",
      " #   Column             Non-Null Count  Dtype  \n",
      "---  ------             --------------  -----  \n",
      " 0   sepal length (cm)  150 non-null    float64\n",
      " 1   sepal width (cm)   150 non-null    float64\n",
      " 2   petal length (cm)  150 non-null    float64\n",
      " 3   petal width (cm)   150 non-null    float64\n",
      " 4   target             150 non-null    int64  \n",
      " 5   iris class         150 non-null    object \n",
      "dtypes: float64(4), int64(1), object(1)\n",
      "memory usage: 7.2+ KB\n"
     ]
    }
   ],
   "source": [
    "# Info on data\n",
    "df.info()"
   ]
  },
  {
   "cell_type": "markdown",
   "id": "ddb40c23",
   "metadata": {},
   "source": [
    "Numerical features: sepal length (cm), sepal width (cm), petal length (cm), petal width (cm)<br>\n",
    "Categorical feature: iris class "
   ]
  },
  {
   "cell_type": "code",
   "execution_count": 12,
   "id": "646854f6",
   "metadata": {},
   "outputs": [
    {
     "data": {
      "text/plain": [
       "setosa        50\n",
       "versicolor    50\n",
       "virginica     50\n",
       "Name: iris class, dtype: int64"
      ]
     },
     "execution_count": 12,
     "metadata": {},
     "output_type": "execute_result"
    }
   ],
   "source": [
    "# value counts for each label\n",
    "df['iris class'].value_counts()"
   ]
  },
  {
   "cell_type": "markdown",
   "id": "ee4fdf67",
   "metadata": {},
   "source": [
    "**Preprocessing the dataset**"
   ]
  },
  {
   "cell_type": "markdown",
   "id": "0f7f347d",
   "metadata": {},
   "source": [
    "The dataset has 150 samples in total with three different categories, 50 instances each. We now check the null values, if any."
   ]
  },
  {
   "cell_type": "code",
   "execution_count": 13,
   "id": "0c53796d",
   "metadata": {},
   "outputs": [
    {
     "data": {
      "text/plain": [
       "sepal length (cm)    0\n",
       "sepal width (cm)     0\n",
       "petal length (cm)    0\n",
       "petal width (cm)     0\n",
       "target               0\n",
       "iris class           0\n",
       "dtype: int64"
      ]
     },
     "execution_count": 13,
     "metadata": {},
     "output_type": "execute_result"
    }
   ],
   "source": [
    "# check null values\n",
    "df.isnull().sum()"
   ]
  },
  {
   "cell_type": "code",
   "execution_count": 14,
   "id": "cf169cd4",
   "metadata": {},
   "outputs": [],
   "source": [
    "# drop all missing values, if present\n",
    "df = df.dropna()"
   ]
  },
  {
   "cell_type": "markdown",
   "id": "387bc52a",
   "metadata": {},
   "source": [
    "The above method drops the samples that contains a null value. By default, it drops rows having any null value. It can be made to drop columns too. Similarly, we can consider a row or column to drop if all vlaues are null. By default, it's `any`."
   ]
  },
  {
   "cell_type": "markdown",
   "id": "cc448f7e",
   "metadata": {},
   "source": [
    "**Data visualization**"
   ]
  },
  {
   "cell_type": "code",
   "execution_count": null,
   "id": "57b5dc70",
   "metadata": {},
   "outputs": [],
   "source": [
    "import matplotlib.pyplot as plt\n",
    "%matplotlib inline\n",
    "# visualization as histogram for each dimension of dataset\n",
    "# label column dropped\n",
    "clr = [('b','c'),('g','r'),('r','g'),('c','b')]\n",
    "i = 0\n",
    "for col in df.columns.drop(['target', 'iris class']):\n",
    "    plt.title(col[:-4].title()+'Histogram')\n",
    "    plt.xlabel(col)\n",
    "    plt.ylabel('values')\n",
    "    plt.hist(df[col], color = clr[i][0], ec=clr[i][1])\n",
    "    plt.show()\n",
    "    i += 1"
   ]
  },
  {
   "cell_type": "markdown",
   "id": "5d738af8",
   "metadata": {},
   "source": [
    "**Scatterplot**<br>\n",
    "Python technique for plotting `pyplot` has been used for visualization of different dimensions."
   ]
  },
  {
   "cell_type": "code",
   "execution_count": null,
   "id": "0c63f5c9",
   "metadata": {},
   "outputs": [],
   "source": [
    "cls = dict(b=['setosa', '+'], g=['versicolor', '.'], r=['virginica', '*']) \n",
    "\n",
    "#assuming (b,g,r) as (blue,green,red)\n",
    "# dictionary, each key with pair of axes as value \n",
    "\n",
    "dims = dict(\n",
    "    one = ['sepal length (cm)', 'sepal width (cm)'],\n",
    "    two = ['sepal length (cm)', 'petal length (cm)'],\n",
    "    three = ['sepal width (cm)', 'petal width (cm)'],\n",
    "    four = ['petal length (cm)', 'petal width (cm)']\n",
    ")\n",
    "# iterations to plot for each pair\n",
    "for k in dims:\n",
    "    for cl in cls:\n",
    "        x = df[df['iris class']==cls[cl][0]]\n",
    "        plt.scatter(x[dims[k][0]], x[dims[k][1]], c=cl, label=cls[cl][0], marker=cls[cl][1])\n",
    "    plt.xlabel(dims[k][0])\n",
    "    plt.ylabel(dims[k][1])\n",
    "    plt.title(f'Scatter-plot: {dims[k][0][:-4]} vs {dims[k][1][:-4]}')\n",
    "    plt.legend()\n",
    "    plt.show()"
   ]
  },
  {
   "cell_type": "markdown",
   "id": "602c5376",
   "metadata": {},
   "source": [
    "**Correlation matrics**"
   ]
  },
  {
   "cell_type": "markdown",
   "id": "2149f0ae",
   "metadata": {},
   "source": [
    "A correlation matrix is a table showing correlation coefficients between two variables. Each cell in the table shows the correlation between two variables. The value is in between -1 and 1. If two variables have high correlation, we can neglect one variable from those two."
   ]
  },
  {
   "cell_type": "code",
   "execution_count": null,
   "id": "7fefec4f",
   "metadata": {},
   "outputs": [],
   "source": [
    "# correlation table\n",
    "df.corr()"
   ]
  },
  {
   "cell_type": "code",
   "execution_count": null,
   "id": "62382dcc",
   "metadata": {},
   "outputs": [],
   "source": [
    "import seaborn as sns\n",
    "# store the corr-matrix\n",
    "corr = df.corr()\n",
    "# representation or correlation table as heatmap\n",
    "# coefficients ranging from low to high, represented by color depth.\n",
    "# use of seaborn library\n",
    "fig, ax = plt.subplots(figsize=(5, 4))\n",
    "sns.heatmap(corr, annot=True, ax=ax, cmap='coolwarm')"
   ]
  },
  {
   "cell_type": "markdown",
   "id": "dca7db0a",
   "metadata": {},
   "source": [
    "**Data split**<br>\n",
    "For all our computational work, we are going to adapt the data available in the dataset `iris` instead of `df` because it does not contain any unwanted feature.\n",
    "\n",
    "Now, let's split the dataset by using `train_test_split` method from `sklearn.model_selection` with test to train ratio 3:7."
   ]
  },
  {
   "cell_type": "code",
   "execution_count": null,
   "id": "aad1442d",
   "metadata": {},
   "outputs": [],
   "source": [
    "from sklearn.model_selection import train_test_split\n",
    "X = iris.data    # independent var\n",
    "y = iris.target  # dependent var\n",
    "X_train, X_test, y_train, y_test = train_test_split(X, y, test_size=0.3)"
   ]
  },
  {
   "cell_type": "markdown",
   "id": "fe56c3fb",
   "metadata": {},
   "source": [
    "Now, let's use the `svm` model to train the model and calculate score. I will randomly initialize the parameters because it's not known which parameters yield the best result."
   ]
  },
  {
   "cell_type": "code",
   "execution_count": null,
   "id": "5f1a231a",
   "metadata": {},
   "outputs": [],
   "source": [
    "from sklearn import svm\n",
    "svm_model = svm.SVC(kernel='rbf', C=3, gamma='auto') \n",
    "svm_model.fit(X_train, y_train)\n",
    "svm_model.score(X_test, y_test)"
   ]
  },
  {
   "cell_type": "markdown",
   "id": "65a9f71f",
   "metadata": {},
   "source": [
    "Above model yields different scores each time based upon samples. For the same reason, we use K-fold cross validation. In K-fold cross validation, we assign `n` number of folds in the dataset and it takes `n` iterations. Out of `n` folds, `1/n` portion is test set and `(n-1)/n` is `train set`. `Train and test sets` will get shifting in each iteration so that either set does repeat. In other words, each iteration will operate on a new dataset to get scores individually and derive an average.\n",
    "\n",
    "For different values of `kernel`, we can run a `python loop`. For each value of `kernel`, we can assign one or a number of values for the folds to be used in cross validating so that we can obtain a score which is more realistic and accurate."
   ]
  },
  {
   "cell_type": "code",
   "execution_count": null,
   "id": "b961c931",
   "metadata": {},
   "outputs": [],
   "source": [
    "# hyper parameter tuning\n",
    "import numpy as np\n",
    "from sklearn.model_selection import cross_val_score\n",
    "\n",
    "kernels = ['rbf', 'linear']\n",
    "C = [1, 10, 20]\n",
    "avg_scores = dict()\n",
    "for kval in kernels:\n",
    "    for cval in C:\n",
    "        cv_scores = cross_val_score(svm.SVC(kernel=kval, C=cval, \n",
    "                                    gamma='auto'), iris.data, iris.target, cv=5)\n",
    "        avg_scores[kval+'_'+str(cval)]=np.average(cv_scores)\n",
    "avg_scores"
   ]
  },
  {
   "cell_type": "markdown",
   "id": "c8366143",
   "metadata": {},
   "source": [
    "Thus, we can see that diff sets of parameters yield different scores in each iteration. However, this method is not a practical approach and not convenient. It's very costly for a data scientist and processing will be even costlier when the size of dataset is big enough.\n",
    "\n",
    "`Scikit-learn` has a model called `GridSearchCV` which does exactly the same thing as above but in a very convenient way.\n",
    "\n",
    "Once the model is done, we will fit the model in the datasets."
   ]
  },
  {
   "cell_type": "code",
   "execution_count": null,
   "id": "6106e1b9",
   "metadata": {},
   "outputs": [],
   "source": [
    "from sklearn.model_selection import GridSearchCV\n",
    "clf = GridSearchCV(svm.SVC(gamma='auto'), \n",
    "                   dict(C=[1, 10, 20], kernel=['rbf', 'linear']),\n",
    "                   cv=5, return_train_score=False)\n",
    "clf.fit(iris.data, iris.target)\n",
    "clf.cv_results_"
   ]
  },
  {
   "cell_type": "markdown",
   "id": "a94f2363",
   "metadata": {},
   "source": [
    "It's not all that easy to read this output. But we can read this easily by converting it into pandas dataframe. "
   ]
  },
  {
   "cell_type": "code",
   "execution_count": null,
   "id": "584cd2f5",
   "metadata": {},
   "outputs": [],
   "source": [
    "score_results = pd.DataFrame(clf.cv_results_)\n",
    "score_results.head()"
   ]
  },
  {
   "cell_type": "markdown",
   "id": "bdc9265e",
   "metadata": {},
   "source": [
    "Let us now trim this dataframe down to have only the columns that are required."
   ]
  },
  {
   "cell_type": "code",
   "execution_count": null,
   "id": "98cc2cd3",
   "metadata": {},
   "outputs": [],
   "source": [
    "score_results[['param_C', 'param_kernel', 'mean_test_score']]"
   ]
  },
  {
   "cell_type": "markdown",
   "id": "fe273c42",
   "metadata": {},
   "source": [
    "from sklearn.model_selection import RandomizedSearchCV\n",
    "rs = RandomizedSearchCV(\n",
    "    svm.SVC(gamma='auto'), \n",
    "    dict(C=[1,10,20], kernel=['rbf','linear']), \n",
    "    cv=5, \n",
    "    return_train_score=False, \n",
    "    n_iter=2\n",
    ")\n",
    "\n",
    "rs.fit(iris.data, iris.target)\n",
    "pd.DataFrame(rs.cv_results_)[['param_C','param_kernel','mean_test_score']]"
   ]
  },
  {
   "cell_type": "code",
   "execution_count": null,
   "id": "7babbde7",
   "metadata": {},
   "outputs": [],
   "source": [
    "from sklearn import svm\n",
    "from sklearn.ensemble import RandomForestClassifier\n",
    "from sklearn.linear_model import LogisticRegression"
   ]
  },
  {
   "cell_type": "code",
   "execution_count": null,
   "id": "6a0ae5ab",
   "metadata": {},
   "outputs": [],
   "source": [
    "model_params = {\n",
    "    'svm': {\n",
    "        'model': svm.SVC(gamma='auto'),\n",
    "        'params': {\n",
    "            'C': [1,10,20],\n",
    "            'kernel': ['rbf','linear']\n",
    "        }\n",
    "    },\n",
    "    'random_forest':{\n",
    "        'model': RandomForestClassifier(),\n",
    "        'params': {\n",
    "            'n_estimators': [1,5,10]\n",
    "        }\n",
    "    },\n",
    "    'logistic_regression': {\n",
    "        'model': LogisticRegression(solver='liblinear',multi_class='auto'),\n",
    "        'params': {\n",
    "            'C': [1,5,10]\n",
    "        }\n",
    "    }\n",
    "}"
   ]
  },
  {
   "cell_type": "code",
   "execution_count": null,
   "id": "713986bd",
   "metadata": {},
   "outputs": [],
   "source": [
    "scores = []\n",
    "for model_name, mp in model_params.items():\n",
    "    clf = GridSearchCV(mp['model'], mp['params'], cv=5, return_train_score=False)\n",
    "    clf.fit(iris.data, iris.target)\n",
    "    scores.append({\n",
    "        'model': model_name,\n",
    "        'best_score': clf.best_score_,\n",
    "        'best_params': clf.best_params_\n",
    "    })"
   ]
  },
  {
   "cell_type": "code",
   "execution_count": null,
   "id": "be005051",
   "metadata": {},
   "outputs": [],
   "source": [
    "pd.DataFrame(scores, columns=['model','best_score','best_params'])"
   ]
  },
  {
   "cell_type": "markdown",
   "id": "2d829193",
   "metadata": {},
   "source": [
    "**Conclusion**<br>\n",
    "Having all computation done, it is found that `svm` model yields the best result with optimal parameters slected."
   ]
  },
  {
   "cell_type": "code",
   "execution_count": null,
   "id": "14dc460f",
   "metadata": {},
   "outputs": [],
   "source": [
    "%%HTML\n",
    "<style type=\"text/css\">\n",
    "    table.dataframe td, table.dataframe th {\n",
    "        border: .3px black solid !important;\n",
    "        color: black !important;\n",
    "    }\n",
    "</style>"
   ]
  }
 ],
 "metadata": {
  "kernelspec": {
   "display_name": "Python 3 (ipykernel)",
   "language": "python",
   "name": "python3"
  },
  "language_info": {
   "codemirror_mode": {
    "name": "ipython",
    "version": 3
   },
   "file_extension": ".py",
   "mimetype": "text/x-python",
   "name": "python",
   "nbconvert_exporter": "python",
   "pygments_lexer": "ipython3",
   "version": "3.9.13"
  }
 },
 "nbformat": 4,
 "nbformat_minor": 5
}
